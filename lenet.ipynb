{
 "cells": [
  {
   "cell_type": "code",
   "execution_count": 5,
   "metadata": {},
   "outputs": [],
   "source": [
    "import numpy as np\n",
    "import torch\n",
    "import torch.nn as nn\n",
    "import torch.nn.functional as F\n",
    "from torch.fx import symbolic_trace\n"
   ]
  },
  {
   "cell_type": "code",
   "execution_count": 6,
   "metadata": {},
   "outputs": [],
   "source": [
    "#Defining the convolutional neural network\n",
    "class LeNet5(nn.Module):\n",
    "    def __init__(self, num_classes):\n",
    "        super(LeNet5, self).__init__()\n",
    "        self.conv1 = nn.Conv2d(1, 6, kernel_size=5, stride=1, padding=0)\n",
    "        self.bn1 = nn.BatchNorm2d(6)\n",
    "        self.relu1 = nn.ReLU()\n",
    "        self.maxpool1 = nn.MaxPool2d(kernel_size=2, stride=2)\n",
    "\n",
    "        self.conv2 = nn.Conv2d(6, 16, kernel_size=5, stride=1, padding=0)\n",
    "        self.bn2 = nn.BatchNorm2d(16)\n",
    "        self.relu2 = nn.ReLU()\n",
    "        self.maxpool2 = nn.MaxPool2d(kernel_size=2, stride=2)\n",
    "\n",
    "        self.fc = nn.Linear(400, 120)\n",
    "        self.relu = nn.ReLU()\n",
    "        self.fc1 = nn.Linear(120, 84)\n",
    "        self.relu1 = nn.ReLU()\n",
    "        self.fc2 = nn.Linear(84, num_classes)\n",
    "\n",
    "    def forward(self, x):\n",
    "        out = self.conv1(x)\n",
    "        out = self.bn1(out)\n",
    "        out = self.relu1(out)\n",
    "        out = self.maxpool1(out)\n",
    "\n",
    "        out = self.conv2(out)\n",
    "        out = self.bn2(out)\n",
    "        out = self.relu2(out)\n",
    "        out = self.maxpool2(out)\n",
    "\n",
    "        out = out.reshape(out.size(0), -1)\n",
    "        out = self.fc(out)\n",
    "        out = self.relu(out)\n",
    "        out = self.fc1(out)\n",
    "        out = self.relu1(out)\n",
    "        out = self.fc2(out)\n",
    "        return out"
   ]
  },
  {
   "cell_type": "code",
   "execution_count": 7,
   "metadata": {},
   "outputs": [
    {
     "name": "stdout",
     "output_type": "stream",
     "text": [
      "tensor([[-0.0709, -0.0130,  0.0522, -0.0422, -0.1070, -0.0388,  0.0270,  0.0878,\n",
      "         -0.0439,  0.0869]], grad_fn=<AddmmBackward0>)\n"
     ]
    }
   ],
   "source": [
    "model = LeNet5(num_classes=10) # 10 for MNIST digit recognition\n",
    "x = torch.randn(1, 1, 32, 32)\n",
    "y = model(x)\n",
    "print(y)"
   ]
  },
  {
   "cell_type": "code",
   "execution_count": 8,
   "metadata": {},
   "outputs": [
    {
     "name": "stdout",
     "output_type": "stream",
     "text": [
      "graph():\n",
      "    %x : [num_users=1] = placeholder[target=x]\n",
      "    %conv1 : [num_users=1] = call_module[target=conv1](args = (%x,), kwargs = {})\n",
      "    %bn1 : [num_users=1] = call_module[target=bn1](args = (%conv1,), kwargs = {})\n",
      "    %relu1 : [num_users=1] = call_module[target=relu1](args = (%bn1,), kwargs = {})\n",
      "    %maxpool1 : [num_users=1] = call_module[target=maxpool1](args = (%relu1,), kwargs = {})\n",
      "    %conv2 : [num_users=1] = call_module[target=conv2](args = (%maxpool1,), kwargs = {})\n",
      "    %bn2 : [num_users=1] = call_module[target=bn2](args = (%conv2,), kwargs = {})\n",
      "    %relu2 : [num_users=1] = call_module[target=relu2](args = (%bn2,), kwargs = {})\n",
      "    %maxpool2 : [num_users=2] = call_module[target=maxpool2](args = (%relu2,), kwargs = {})\n",
      "    %size : [num_users=1] = call_method[target=size](args = (%maxpool2, 0), kwargs = {})\n",
      "    %reshape : [num_users=1] = call_method[target=reshape](args = (%maxpool2, %size, -1), kwargs = {})\n",
      "    %fc : [num_users=1] = call_module[target=fc](args = (%reshape,), kwargs = {})\n",
      "    %relu : [num_users=1] = call_module[target=relu](args = (%fc,), kwargs = {})\n",
      "    %fc1 : [num_users=1] = call_module[target=fc1](args = (%relu,), kwargs = {})\n",
      "    %relu1_1 : [num_users=1] = call_module[target=relu1](args = (%fc1,), kwargs = {})\n",
      "    %fc2 : [num_users=1] = call_module[target=fc2](args = (%relu1_1,), kwargs = {})\n",
      "    return fc2\n"
     ]
    }
   ],
   "source": [
    "# Symbolic tracing frontend - captures the semantics of the module\n",
    "symbolic_traced: torch.fx.GraphModule = symbolic_trace(model)\n",
    "\n",
    "# High-level intermediate representation (IR) - Graph representation\n",
    "print(symbolic_traced.graph)"
   ]
  },
  {
   "cell_type": "code",
   "execution_count": 26,
   "metadata": {},
   "outputs": [
    {
     "name": "stdout",
     "output_type": "stream",
     "text": [
      "opcode       name      target    args                  kwargs\n",
      "-----------  --------  --------  --------------------  --------\n",
      "placeholder  x         x         ()                    {}\n",
      "call_module  conv1     conv1     (x,)                  {}\n",
      "call_module  bn1       bn1       (conv1,)              {}\n",
      "call_module  relu1     relu1     (bn1,)                {}\n",
      "call_module  maxpool1  maxpool1  (relu1,)              {}\n",
      "call_module  conv2     conv2     (maxpool1,)           {}\n",
      "call_module  bn2       bn2       (conv2,)              {}\n",
      "call_module  relu2     relu2     (bn2,)                {}\n",
      "call_module  maxpool2  maxpool2  (relu2,)              {}\n",
      "call_method  size      size      (maxpool2, 0)         {}\n",
      "call_method  reshape   reshape   (maxpool2, size, -1)  {}\n",
      "call_module  fc        fc        (reshape,)            {}\n",
      "call_module  relu      relu      (fc,)                 {}\n",
      "call_module  fc1       fc1       (relu,)               {}\n",
      "call_module  relu1_1   relu1     (fc1,)                {}\n",
      "call_module  fc2       fc2       (relu1_1,)            {}\n",
      "output       output    output    (fc2,)                {}\n"
     ]
    }
   ],
   "source": [
    "symbolic_traced.graph.print_tabular()\n"
   ]
  },
  {
   "cell_type": "code",
   "execution_count": null,
   "metadata": {},
   "outputs": [],
   "source": [
    "# class ECG:\n",
    "#     def __init__(self, model):\n",
    "#         symbolic_traced = symbolic_trace(model)\n",
    "#         for\n",
    "        "
   ]
  },
  {
   "cell_type": "code",
   "execution_count": 33,
   "metadata": {},
   "outputs": [
    {
     "name": "stdout",
     "output_type": "stream",
     "text": [
      "call_module conv1 (x,) Conv2d(1, 6, kernel_size=(5, 5), stride=(1, 1))\n",
      "call_module bn1 (conv1,) BatchNorm2d(6, eps=1e-05, momentum=0.1, affine=True, track_running_stats=True)\n",
      "call_module relu1 (bn1,) ReLU()\n",
      "call_module maxpool1 (relu1,) MaxPool2d(kernel_size=2, stride=2, padding=0, dilation=1, ceil_mode=False)\n",
      "call_module conv2 (maxpool1,) Conv2d(6, 16, kernel_size=(5, 5), stride=(1, 1))\n",
      "call_module bn2 (conv2,) BatchNorm2d(16, eps=1e-05, momentum=0.1, affine=True, track_running_stats=True)\n",
      "call_module relu2 (bn2,) ReLU()\n",
      "call_module maxpool2 (relu2,) MaxPool2d(kernel_size=2, stride=2, padding=0, dilation=1, ceil_mode=False)\n",
      "call_module fc (reshape,) Linear(in_features=400, out_features=120, bias=True)\n",
      "call_module relu (fc,) ReLU()\n",
      "call_module fc1 (relu,) Linear(in_features=120, out_features=84, bias=True)\n",
      "call_module relu1 (fc1,) ReLU()\n",
      "call_module fc2 (relu1_1,) Linear(in_features=84, out_features=10, bias=True)\n"
     ]
    }
   ],
   "source": [
    "for node in symbolic_traced.graph.nodes:\n",
    "    if node.op == \"call_module\":\n",
    "        print(node.op, node.target, node.args, getattr(symbolic_traced, node.target))\n"
   ]
  },
  {
   "cell_type": "code",
   "execution_count": 10,
   "metadata": {},
   "outputs": [
    {
     "name": "stdout",
     "output_type": "stream",
     "text": [
      "{'maxpool1', 'bn1', 'maxpool2', 'fc2', 'conv1', 'relu1', 'fc', 'bn2', 'relu', 'fc1', 'conv2', 'relu2'}\n"
     ]
    }
   ],
   "source": [
    "all_operators = {node.target for node in symbolic_traced.graph.nodes if node.op == \"call_module\" or node.op == \"call_function\"}\n",
    "print(all_operators)"
   ]
  },
  {
   "cell_type": "code",
   "execution_count": null,
   "metadata": {},
   "outputs": [],
   "source": []
  },
  {
   "cell_type": "markdown",
   "metadata": {},
   "source": [
    "# Fusion Plan Algorithm"
   ]
  },
  {
   "cell_type": "code",
   "execution_count": null,
   "metadata": {},
   "outputs": [],
   "source": [
    "def generate_seed(ops):\n",
    "    pass\n",
    "\n",
    "def successors(op):\n",
    "    pass\n",
    "\n",
    "def predecessors(op):\n",
    "    pass\n",
    "\n",
    "def fuse_successor(sp, successor, block):\n",
    "    pass\n",
    "\n",
    "def fuse_predecessor(sp, predecessor, block):\n",
    "    pass\n",
    "\n",
    "# <Algorithm Entry>\n",
    "unfused_ops = all_operators\n",
    "# Step 1: start fuse from the selected seed\n",
    "while sp := generate_seed(unfused_ops):\n",
    "    block = {sp}\n",
    "    # Step 2: head to successor\n",
    "    for successor in successors(sp):\n",
    "        fuse_successor(sp, successor, block)\n",
    "    # Step 3: head to predecessors\n",
    "    for predecessor in predecessors(sp):\n",
    "        fuse_predecessor(sp, predecessor, block)\n",
    "    unfused_ops -= block\n",
    "    \n",
    "    "
   ]
  }
 ],
 "metadata": {
  "kernelspec": {
   "display_name": "torch",
   "language": "python",
   "name": "python3"
  },
  "language_info": {
   "codemirror_mode": {
    "name": "ipython",
    "version": 3
   },
   "file_extension": ".py",
   "mimetype": "text/x-python",
   "name": "python",
   "nbconvert_exporter": "python",
   "pygments_lexer": "ipython3",
   "version": "3.12.8"
  }
 },
 "nbformat": 4,
 "nbformat_minor": 2
}
